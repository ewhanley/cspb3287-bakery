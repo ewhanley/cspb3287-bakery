{
 "cells": [
  {
   "cell_type": "markdown",
   "id": "3e7dd1fb",
   "metadata": {},
   "source": [
    "## Bakery Database\n",
    "### CSBP 3287 - Spring 2023 Semester Project\n",
    "### Eric Hanley"
   ]
  },
  {
   "cell_type": "markdown",
   "id": "97ab5e12",
   "metadata": {},
   "source": [
    "#### Project Requirements\n",
    "\n",
    "- [x] Multiple Table\t\n",
    "- [x] Relationships between table items (foreign keys) \t\n",
    "- [x] Show SQL statements (and any accompanying code) for all table creation, insertion of initial data, updates, and queries.\t\n",
    "- [x] Table Creation\t\n",
    "- [x] Constraints\t\n",
    "- [x] Indexes\t\n",
    "- [x] Triggers\t\n",
    "- [x] Queries\n",
    "- [x] Joins between tables\n",
    "- [x] Grouping Results\n",
    "- [x] Updates (show triggers being executed)\n",
    "- [x] Deleting items that are foreign keys in other tables (show triggers being executed)"
   ]
  },
  {
   "cell_type": "markdown",
   "id": "a8bbdbfb",
   "metadata": {},
   "source": [
    "### Create a SQLite DB"
   ]
  },
  {
   "cell_type": "code",
   "execution_count": 1,
   "id": "ba3875a3",
   "metadata": {},
   "outputs": [],
   "source": [
    "import sqlite3\n",
    "import csv\n",
    "from sqlite3 import Error\n",
    "\n",
    "def create_conn(db_file):\n",
    "    \"\"\" create a db connection to a SQLite db \"\"\"\n",
    "    conn = None\n",
    "    try:\n",
    "        conn = sqlite3.connect(db_file)\n",
    "        print(sqlite3.version)\n",
    "    except Error as e:\n",
    "        print(e)\n",
    "    finally:\n",
    "        if conn:\n",
    "            conn.close()"
   ]
  },
  {
   "cell_type": "code",
   "execution_count": 2,
   "id": "887ac1a9",
   "metadata": {},
   "outputs": [
    {
     "name": "stdout",
     "output_type": "stream",
     "text": [
      "2.6.0\n"
     ]
    }
   ],
   "source": [
    "create_conn('bakery.db')"
   ]
  },
  {
   "cell_type": "code",
   "execution_count": 3,
   "id": "2c72424a",
   "metadata": {},
   "outputs": [],
   "source": [
    "%load_ext sql\n",
    "%sql sqlite:///bakery.db"
   ]
  },
  {
   "cell_type": "markdown",
   "id": "6d2a16e0",
   "metadata": {},
   "source": [
    "### Drop All Tables and Triggers For Clean Build"
   ]
  },
  {
   "cell_type": "code",
   "execution_count": 4,
   "id": "47cf63a1",
   "metadata": {},
   "outputs": [
    {
     "name": "stdout",
     "output_type": "stream",
     "text": [
      " * sqlite:///bakery.db\n",
      "Done.\n",
      "Done.\n",
      "Done.\n",
      "Done.\n",
      "Done.\n",
      "Done.\n",
      "Done.\n",
      "Done.\n",
      "Done.\n",
      "Done.\n",
      "Done.\n",
      "Done.\n"
     ]
    },
    {
     "data": {
      "text/plain": [
       "[]"
      ]
     },
     "execution_count": 4,
     "metadata": {},
     "output_type": "execute_result"
    }
   ],
   "source": [
    "%%sql\n",
    "drop table if exists ingredient_metadata;\n",
    "drop table if exists ingredient_inventory;\n",
    "drop table if exists supplier;\n",
    "drop table if exists product_metadata;\n",
    "drop table if exists product_inventory;\n",
    "drop table if exists bill_of_materials;\n",
    "drop table if exists product_order;\n",
    "drop table if exists supply_order;\n",
    "drop table if exists customer;\n",
    "drop trigger if exists update_ingredient_inventory_insert_trigger;\n",
    "drop trigger if exists update_product_inventory_insert_trigger;\n",
    "drop trigger if exists delete_supplier_ingredients;"
   ]
  },
  {
   "cell_type": "code",
   "execution_count": 5,
   "id": "5b00ea23",
   "metadata": {},
   "outputs": [],
   "source": [
    "### Create Tables"
   ]
  },
  {
   "cell_type": "code",
   "execution_count": 6,
   "id": "44d2b97a",
   "metadata": {},
   "outputs": [
    {
     "name": "stdout",
     "output_type": "stream",
     "text": [
      " * sqlite:///bakery.db\n",
      "Done.\n",
      "Done.\n",
      "Done.\n",
      "Done.\n",
      "Done.\n",
      "Done.\n",
      "Done.\n",
      "Done.\n",
      "Done.\n"
     ]
    },
    {
     "data": {
      "text/plain": [
       "[]"
      ]
     },
     "execution_count": 6,
     "metadata": {},
     "output_type": "execute_result"
    }
   ],
   "source": [
    "%%sql\n",
    "CREATE TABLE ingredient_metadata(\n",
    "    ingredient_ID int PRIMARY KEY,\n",
    "    supplier_ID int NOT NULL,\n",
    "    name varchar(50) NOT NULL,\n",
    "    category varchar(50) NOT NULL,\n",
    "    description varchar(100) NOT NULL,\n",
    "    FOREIGN KEY (supplier_ID)\n",
    "        REFERENCES supplier (supplier_ID)\n",
    ");\n",
    "\n",
    "CREATE TABLE ingredient_inventory(\n",
    "    ingredient_category varchar(50) PRIMARY KEY,\n",
    "    quantity real NOT NULL,\n",
    "    unit varchar(50) NOT NULL,\n",
    "    CHECK (quantity >= 0),\n",
    "    CHECK (unit IN ('g', 'mL')),\n",
    "    FOREIGN KEY (ingredient_category)\n",
    "        REFERENCES ingredient_metadata (category)\n",
    ");\n",
    "\n",
    "CREATE TABLE supplier(\n",
    "    supplier_ID int PRIMARY KEY,\n",
    "    name varchar(50) NOT NULL,\n",
    "    address varchar(100) NOT NULL,\n",
    "    city varchar(50) NOT NULL,\n",
    "    state varchar(2) NOT NULL,\n",
    "    zip_code varchar(5) NOT NULL\n",
    ");\n",
    "\n",
    "CREATE TABLE product_metadata(\n",
    "    product_ID int PRIMARY KEY,\n",
    "    name varchar(50) NOT NULL,\n",
    "    description varchar(100) NOT NULL,\n",
    "    unit_price real NOT NULL\n",
    ");\n",
    "\n",
    "CREATE TABLE product_inventory(\n",
    "    product_ID int PRIMARY_KEY,\n",
    "    quantity int NOT NULL\n",
    ");\n",
    "\n",
    "CREATE TABLE bill_of_materials(\n",
    "    bom_ID int NOT NULL,\n",
    "    product_ID int NOT NULL,\n",
    "    line int NOT NULL,\n",
    "    ingredient_category varchar(50) NOT NULL,\n",
    "    quantity real NOT NULL,\n",
    "    unit varchar(50) NOT NULL,\n",
    "    CHECK (unit IN ('g', 'mL'))\n",
    "    FOREIGN KEY (ingredient_category)\n",
    "        REFERENCES ingredient_metadata (category)\n",
    "    FOREIGN KEY (product_ID)\n",
    "        REFERENCES product_metadata (product_ID)\n",
    "    PRIMARY KEY (bom_ID, line)\n",
    ");\n",
    "\n",
    "CREATE TABLE product_order(\n",
    "    order_ID int NOT NULL,\n",
    "    line int NOT NULL,\n",
    "    order_date int NOT NULL,\n",
    "    due_date int NOT NULL,\n",
    "    product_ID int NOT NULL,\n",
    "    quantity int NOT NULL,\n",
    "    customer_ID int NOT NULL,\n",
    "    FOREIGN KEY (product_ID)\n",
    "        REFERENCES product_metadata (product_ID)\n",
    "    FOREIGN KEY (customer_ID)\n",
    "        REFERENCES customer (customer_ID)\n",
    "    PRIMARY KEY (order_ID, line)\n",
    ");\n",
    "\n",
    "CREATE TABLE supply_order(\n",
    "    order_ID int NOT NULL,\n",
    "    line int NOT NULL,\n",
    "    supplier_ID int NOT NULL,\n",
    "    ingredient_ID int NOT NULL,\n",
    "    quantity real NOT NULL,\n",
    "    unit varchar(50) NOT NULL,\n",
    "    FOREIGN KEY (supplier_ID)\n",
    "        REFERENCES supplier (supplier_ID)\n",
    "    FOREIGN KEY (ingredient_ID)\n",
    "        REFERENCES ingredient_metadata (ingredient_ID)\n",
    "    PRIMARY KEY (order_ID, line)\n",
    "    CHECK (unit IN ('g', 'mL'))\n",
    "    \n",
    ");\n",
    "\n",
    "CREATE TABLE customer(\n",
    "    customer_ID int PRIMARY_KEY,\n",
    "    name varchar(50) NOT NULL,\n",
    "    address varchar(100) NOT NULL,\n",
    "    city varchar(50) NOT NULL,\n",
    "    state varchar(2) NOT NULL,\n",
    "    zip_code varchar(5) NOT NULL\n",
    ");"
   ]
  },
  {
   "cell_type": "markdown",
   "id": "612fce0b",
   "metadata": {},
   "source": [
    "### Create Triggers"
   ]
  },
  {
   "cell_type": "code",
   "execution_count": 7,
   "id": "d083abe6",
   "metadata": {},
   "outputs": [
    {
     "name": "stdout",
     "output_type": "stream",
     "text": [
      " * sqlite:///bakery.db\n",
      "Done.\n",
      "Done.\n",
      "Done.\n",
      "Done.\n"
     ]
    },
    {
     "data": {
      "text/plain": [
       "[]"
      ]
     },
     "execution_count": 7,
     "metadata": {},
     "output_type": "execute_result"
    }
   ],
   "source": [
    "%%sql\n",
    "/*\n",
    "Create the trigger for INSERT operation on the supply_order table.\n",
    "This trigger updates the quantity of an existing ingredient in inventory\n",
    "or adds it to the inventory if it doesn't exist\n",
    "*/\n",
    "CREATE TRIGGER update_ingredient_inventory_insert_trigger\n",
    "AFTER INSERT ON supply_order\n",
    "BEGIN\n",
    "    INSERT OR REPLACE INTO ingredient_inventory (ingredient_category, quantity, unit)\n",
    "    SELECT\n",
    "        (SELECT category FROM ingredient_metadata WHERE NEW.ingredient_ID = ingredient_metadata.ingredient_ID),\n",
    "        COALESCE((SELECT quantity \n",
    "                  FROM ingredient_inventory \n",
    "                  WHERE ingredient_category = (\n",
    "                      SELECT category \n",
    "                      FROM ingredient_metadata \n",
    "                      WHERE NEW.ingredient_ID == ingredient_metadata.ingredient_ID)\n",
    "                 ), 0) + NEW.quantity,\n",
    "        COALESCE((SELECT unit \n",
    "                  FROM ingredient_inventory \n",
    "                  WHERE (SELECT category \n",
    "                         FROM ingredient_metadata \n",
    "                         WHERE NEW.ingredient_ID = ingredient_metadata.ingredient_ID)\n",
    "                 ), NEW.unit)\n",
    "    ;\n",
    "END;\n",
    "\n",
    "/*\n",
    "Create the trigger for INSERT operation on the product_order table.\n",
    "This trigger updates the product inventory when an item is ordered\n",
    "*/\n",
    "CREATE TRIGGER update_product_inventory_insert_trigger\n",
    "AFTER INSERT ON product_order\n",
    "BEGIN\n",
    "    INSERT OR REPLACE INTO product_inventory (product_ID, quantity)\n",
    "    SELECT\n",
    "        NEW.product_ID,\n",
    "        COALESCE((SELECT quantity FROM product_inventory WHERE product_ID = NEW.product_ID), 0) - NEW.quantity\n",
    "    ;\n",
    "END;\n",
    "\n",
    "/*\n",
    "Create the trigger for DELETE operation on the supplier table.\n",
    "This trigger removes all ingredients from a supplier if the supplier is deleted\n",
    "*/\n",
    "CREATE TRIGGER delete_supplier_ingredients\n",
    "AFTER DELETE ON supplier\n",
    "BEGIN\n",
    "    DELETE FROM ingredient_metadata\n",
    "    WHERE supplier_ID = OLD.supplier_ID;\n",
    "END;\n",
    "\n",
    "PRAGMA trigger_trace = ON;"
   ]
  },
  {
   "cell_type": "markdown",
   "id": "4fa2b91e",
   "metadata": {},
   "source": [
    "### Create Indices"
   ]
  },
  {
   "cell_type": "code",
   "execution_count": 8,
   "id": "00c864ca",
   "metadata": {},
   "outputs": [
    {
     "name": "stdout",
     "output_type": "stream",
     "text": [
      " * sqlite:///bakery.db\n",
      "Done.\n",
      "Done.\n"
     ]
    },
    {
     "data": {
      "text/plain": [
       "[]"
      ]
     },
     "execution_count": 8,
     "metadata": {},
     "output_type": "execute_result"
    }
   ],
   "source": [
    "%%sql\n",
    "CREATE INDEX ingredient_inventory_quantity_index ON ingredient_inventory(quantity);\n",
    "CREATE INDEX ingredient_inventory_ID_index ON ingredient_inventory(ingredient_category);"
   ]
  },
  {
   "cell_type": "markdown",
   "id": "c0ff0ba7",
   "metadata": {},
   "source": [
    "### Populate Tables"
   ]
  },
  {
   "cell_type": "code",
   "execution_count": 9,
   "id": "972980d1",
   "metadata": {},
   "outputs": [],
   "source": [
    "# Helper function to insert example data from CSV files\n",
    "def insert_from_csv(file_name, table_name):\n",
    "    \n",
    "    # Connect to the SQLite database\n",
    "    conn = sqlite3.connect(\"bakery.db\", timeout=30)\n",
    "    cur = conn.cursor()\n",
    "        \n",
    "    \n",
    "    # Open the CSV file\n",
    "    with open(file_name, \"r\") as f:\n",
    "        \n",
    "        \n",
    "        # Read the CSV data using csv.reader\n",
    "        csv_data = csv.reader(f)\n",
    "\n",
    "        # get field names from header row\n",
    "        fields = next(csv_data)\n",
    "        \n",
    "        # build sql string\n",
    "        ins_str = f'INSERT INTO {table_name} ({\", \".join(fields)})\\n VALUES ({\", \".join([\"?\" for field in fields])})'\n",
    "        print(ins_str)\n",
    "\n",
    "        # Insert each row from the CSV into the supplier table\n",
    "        for row in csv_data:\n",
    "            cur.execute(ins_str, row)\n",
    "\n",
    "    # Commit the transaction and close the connection\n",
    "    conn.commit()\n",
    "    conn.close()\n",
    "    print(f'Table {table_name} populated and connection closed.\\n')\n",
    "\n"
   ]
  },
  {
   "cell_type": "code",
   "execution_count": 10,
   "id": "11433e7e",
   "metadata": {},
   "outputs": [
    {
     "name": "stdout",
     "output_type": "stream",
     "text": [
      "INSERT INTO ingredient_metadata (ingredient_ID, supplier_ID, name, category, description)\n",
      " VALUES (?, ?, ?, ?, ?)\n",
      "Table ingredient_metadata populated and connection closed.\n",
      "\n",
      "INSERT INTO bill_of_materials (bom_ID, product_ID, line, ingredient_category, quantity, unit)\n",
      " VALUES (?, ?, ?, ?, ?, ?)\n",
      "Table bill_of_materials populated and connection closed.\n",
      "\n",
      "INSERT INTO customer (customer_ID, name, address, city, state, zip_code)\n",
      " VALUES (?, ?, ?, ?, ?, ?)\n",
      "Table customer populated and connection closed.\n",
      "\n",
      "INSERT INTO product_metadata (product_ID, name, description, unit_price)\n",
      " VALUES (?, ?, ?, ?)\n",
      "Table product_metadata populated and connection closed.\n",
      "\n",
      "INSERT INTO supplier (supplier_ID, name, address, city, state, zip_code)\n",
      " VALUES (?, ?, ?, ?, ?, ?)\n",
      "Table supplier populated and connection closed.\n",
      "\n"
     ]
    }
   ],
   "source": [
    "ins_params = [('data/bakery_data/ingredients-Table 1.csv', 'ingredient_metadata'),\n",
    "              ('data/bakery_data/bom-Table 1.csv', 'bill_of_materials'),\n",
    "              ('data/bakery_data/customer-Table 1.csv', 'customer'),\n",
    "              ('data/bakery_data/products-Table 1.csv', 'product_metadata'),\n",
    "              ('data/bakery_data/supplier-Table 1.csv', 'supplier')]\n",
    "\n",
    "for item in ins_params:\n",
    "    insert_from_csv(item[0], item[1])"
   ]
  },
  {
   "cell_type": "markdown",
   "id": "86fe4323",
   "metadata": {},
   "source": [
    "### Demo Path\n",
    "\n",
    "1. Customer places order (create order, show order, join for order/product/price/inventory)\n",
    "2. Check materials inventory against order requirements (join inventory, group by ingred category)\n",
    "3. Place a materials order to adjust for shortfall (show updated materials inventory)\n",
    "    1. one order for item that is not already in inventory\n",
    "    2. one order for item that already exists in inventory\n",
    "4. Remove a supplier (too slow, price too high, etc) - show cascading FK delete in ingred metadata"
   ]
  },
  {
   "cell_type": "markdown",
   "id": "90b2dc28",
   "metadata": {},
   "source": [
    "#### Customer Places an Order\n",
    "The following code block inserts a new customer order. It then queries that order and augments it by joining the customer and product_metadata tables to include customer names, product name, and total price. First we'll query the product inventory (currently empty) to confirm the order trigger updates the product inventory when a customer order is placed. "
   ]
  },
  {
   "cell_type": "code",
   "execution_count": 11,
   "id": "9bc14403",
   "metadata": {},
   "outputs": [
    {
     "name": "stdout",
     "output_type": "stream",
     "text": [
      " * sqlite:///bakery.db\n",
      "Done.\n"
     ]
    },
    {
     "data": {
      "text/html": [
       "<table>\n",
       "    <thead>\n",
       "        <tr>\n",
       "            <th>product_ID</th>\n",
       "            <th>quantity</th>\n",
       "        </tr>\n",
       "    </thead>\n",
       "    <tbody>\n",
       "    </tbody>\n",
       "</table>"
      ],
      "text/plain": [
       "[]"
      ]
     },
     "execution_count": 11,
     "metadata": {},
     "output_type": "execute_result"
    }
   ],
   "source": [
    "%%sql\n",
    "-- Check product inventory table before order is placed\n",
    "SELECT *\n",
    "FROM product_inventory;"
   ]
  },
  {
   "cell_type": "code",
   "execution_count": 12,
   "id": "9d1d9658",
   "metadata": {},
   "outputs": [
    {
     "name": "stdout",
     "output_type": "stream",
     "text": [
      " * sqlite:///bakery.db\n",
      "2 rows affected.\n",
      "Done.\n"
     ]
    },
    {
     "data": {
      "text/html": [
       "<table>\n",
       "    <thead>\n",
       "        <tr>\n",
       "            <th>order_ID</th>\n",
       "            <th>line</th>\n",
       "            <th>order_date</th>\n",
       "            <th>due_date</th>\n",
       "            <th>customer_name</th>\n",
       "            <th>product_name</th>\n",
       "            <th>quantity</th>\n",
       "            <th>total_cost</th>\n",
       "        </tr>\n",
       "    </thead>\n",
       "    <tbody>\n",
       "        <tr>\n",
       "            <td>1</td>\n",
       "            <td>1</td>\n",
       "            <td>2023-04-04</td>\n",
       "            <td>2023-04-04</td>\n",
       "            <td>John Public</td>\n",
       "            <td>Rustic Sourdough</td>\n",
       "            <td>3</td>\n",
       "            <td>$23.85</td>\n",
       "        </tr>\n",
       "        <tr>\n",
       "            <td>1</td>\n",
       "            <td>2</td>\n",
       "            <td>2023-04-04</td>\n",
       "            <td>2023-04-04</td>\n",
       "            <td>John Public</td>\n",
       "            <td>Dark Rye Loaf</td>\n",
       "            <td>8</td>\n",
       "            <td>$38.00</td>\n",
       "        </tr>\n",
       "    </tbody>\n",
       "</table>"
      ],
      "text/plain": [
       "[(1, 1, '2023-04-04', '2023-04-04', 'John Public', 'Rustic Sourdough', 3, '$23.85'),\n",
       " (1, 2, '2023-04-04', '2023-04-04', 'John Public', 'Dark Rye Loaf', 8, '$38.00')]"
      ]
     },
     "execution_count": 12,
     "metadata": {},
     "output_type": "execute_result"
    }
   ],
   "source": [
    "%%sql\n",
    "-- Customer places order for three loaves of Rustic Sourdough and eight loaves of Dark Rye\n",
    "INSERT INTO product_order (order_ID, line, order_date, due_date, product_ID, quantity, customer_ID)\n",
    "VALUES \n",
    "    (1, 1, \"2023-04-04\", \"2023-04-04\", 2, 3, 1),\n",
    "    (1, 2, \"2023-04-04\", \"2023-04-04\", 4, 8, 1);\n",
    "\n",
    "-- Query the order we just created with joins to get customer name, product name, and total price\n",
    "SELECT order_ID,\n",
    "    line,\n",
    "    order_date,\n",
    "    due_date,\n",
    "    customer.name AS customer_name,\n",
    "    product_metadata.name AS product_name,\n",
    "    quantity,\n",
    "    PRINTF(\"$%.2f\", quantity*product_metadata.unit_price) AS total_cost\n",
    "FROM product_order \n",
    "    LEFT JOIN customer ON product_order.customer_ID = customer.customer_ID \n",
    "    LEFT JOIN product_metadata ON product_order.product_ID = product_metadata.product_ID\n",
    "WHERE order_ID = (SELECT MAX(order_ID) FROM product_order);\n"
   ]
  },
  {
   "cell_type": "markdown",
   "id": "cb2ea068",
   "metadata": {},
   "source": [
    "#### Check Product Inventory After Order is Placed"
   ]
  },
  {
   "cell_type": "code",
   "execution_count": 13,
   "id": "26696713",
   "metadata": {},
   "outputs": [
    {
     "name": "stdout",
     "output_type": "stream",
     "text": [
      " * sqlite:///bakery.db\n",
      "Done.\n"
     ]
    },
    {
     "data": {
      "text/html": [
       "<table>\n",
       "    <thead>\n",
       "        <tr>\n",
       "            <th>product_ID</th>\n",
       "            <th>quantity</th>\n",
       "            <th>name</th>\n",
       "        </tr>\n",
       "    </thead>\n",
       "    <tbody>\n",
       "        <tr>\n",
       "            <td>2</td>\n",
       "            <td>-3</td>\n",
       "            <td>Rustic Sourdough</td>\n",
       "        </tr>\n",
       "        <tr>\n",
       "            <td>4</td>\n",
       "            <td>-8</td>\n",
       "            <td>Dark Rye Loaf</td>\n",
       "        </tr>\n",
       "    </tbody>\n",
       "</table>"
      ],
      "text/plain": [
       "[(2, -3, 'Rustic Sourdough'), (4, -8, 'Dark Rye Loaf')]"
      ]
     },
     "execution_count": 13,
     "metadata": {},
     "output_type": "execute_result"
    }
   ],
   "source": [
    "%%sql\n",
    "-- This query confirms that the product inventory trigger updates the inventory when an order is placed\n",
    "SELECT product_inventory.product_ID,\n",
    "    quantity,\n",
    "    name\n",
    "FROM product_inventory \n",
    "    LEFT JOIN product_metadata ON product_inventory.product_ID = product_metadata.product_ID;"
   ]
  },
  {
   "cell_type": "markdown",
   "id": "d0ddc8da",
   "metadata": {},
   "source": [
    "#### Check Ingredients Inventory\n",
    "Now that an order has been placed, we will check if we have sufficient ingredients on hand to complete the order. We can get the required ingredients quantities from the bill_of_materials table."
   ]
  },
  {
   "cell_type": "code",
   "execution_count": 14,
   "id": "c133e28d",
   "metadata": {},
   "outputs": [
    {
     "name": "stdout",
     "output_type": "stream",
     "text": [
      " * sqlite:///bakery.db\n",
      "Done.\n"
     ]
    },
    {
     "data": {
      "text/html": [
       "<table>\n",
       "    <thead>\n",
       "        <tr>\n",
       "            <th>order_ID</th>\n",
       "            <th>ingredient_category</th>\n",
       "            <th>required_quantity</th>\n",
       "            <th>quantity_available</th>\n",
       "            <th>quantity_delta</th>\n",
       "        </tr>\n",
       "    </thead>\n",
       "    <tbody>\n",
       "        <tr>\n",
       "            <td>1</td>\n",
       "            <td>Brown Sugar</td>\n",
       "            <td>240.0</td>\n",
       "            <td>0</td>\n",
       "            <td>-240.0</td>\n",
       "        </tr>\n",
       "        <tr>\n",
       "            <td>1</td>\n",
       "            <td>Medium Rye Flour</td>\n",
       "            <td>7500.0</td>\n",
       "            <td>0</td>\n",
       "            <td>-7500.0</td>\n",
       "        </tr>\n",
       "        <tr>\n",
       "            <td>1</td>\n",
       "            <td>Salt</td>\n",
       "            <td>170.0</td>\n",
       "            <td>0</td>\n",
       "            <td>-170.0</td>\n",
       "        </tr>\n",
       "        <tr>\n",
       "            <td>1</td>\n",
       "            <td>Wheat Flour</td>\n",
       "            <td>4500.0</td>\n",
       "            <td>0</td>\n",
       "            <td>-4500.0</td>\n",
       "        </tr>\n",
       "        <tr>\n",
       "            <td>1</td>\n",
       "            <td>Yeast</td>\n",
       "            <td>40.0</td>\n",
       "            <td>0</td>\n",
       "            <td>-40.0</td>\n",
       "        </tr>\n",
       "    </tbody>\n",
       "</table>"
      ],
      "text/plain": [
       "[(1, 'Brown Sugar', 240.0, 0, -240.0),\n",
       " (1, 'Medium Rye Flour', 7500.0, 0, -7500.0),\n",
       " (1, 'Salt', 170.0, 0, -170.0),\n",
       " (1, 'Wheat Flour', 4500.0, 0, -4500.0),\n",
       " (1, 'Yeast', 40.0, 0, -40.0)]"
      ]
     },
     "execution_count": 14,
     "metadata": {},
     "output_type": "execute_result"
    }
   ],
   "source": [
    "%%sql\n",
    "-- This query grabs the order created above and compares the required ingredients to what is on hand\n",
    "WITH required_ingredients AS (\n",
    "    SELECT o.order_ID,\n",
    "        b.ingredient_category,\n",
    "        SUM(o.quantity*b.quantity) AS required_quantity,\n",
    "        b.unit\n",
    "    FROM product_order o, bill_of_materials b\n",
    "    WHERE o.order_ID = (SELECT MAX(order_id) FROM product_order)\n",
    "        AND o.product_ID = b.product_ID\n",
    "    GROUP BY o.order_ID, b.ingredient_category, b.unit\n",
    ")\n",
    "\n",
    "\n",
    "SELECT r.order_ID,\n",
    "    r.ingredient_category,\n",
    "    r.required_quantity,\n",
    "    COALESCE(i.quantity, 0) AS quantity_available,\n",
    "    COALESCE(i.quantity, 0) - r.required_quantity AS quantity_delta\n",
    "FROM required_ingredients r \n",
    "    LEFT JOIN ingredient_inventory i ON r.ingredient_category = i.ingredient_category\n",
    ";\n",
    "\n",
    "    \n",
    "    \n",
    "    \n",
    "    \n",
    "    \n",
    "    "
   ]
  },
  {
   "cell_type": "markdown",
   "id": "963cef05",
   "metadata": {},
   "source": [
    "#### Order Ingredients\n",
    "Given the shortages we see from the query above, we need to order more ingredients."
   ]
  },
  {
   "cell_type": "code",
   "execution_count": 15,
   "id": "59b6393b",
   "metadata": {},
   "outputs": [
    {
     "name": "stdout",
     "output_type": "stream",
     "text": [
      " * sqlite:///bakery.db\n",
      "5 rows affected.\n"
     ]
    },
    {
     "data": {
      "text/plain": [
       "[]"
      ]
     },
     "execution_count": 15,
     "metadata": {},
     "output_type": "execute_result"
    }
   ],
   "source": [
    "%%sql\n",
    "INSERT INTO supply_order (order_ID, line, supplier_ID, ingredient_ID, quantity, unit)\n",
    " VALUES\n",
    "    (1, 1, 4, 17, 2500, \"g\"),\n",
    "    (1, 2, 1, 3, 10000, \"g\"),\n",
    "    (1, 3, 4, 15, 1000, \"g\"),\n",
    "    (1, 4, 1, 1, 10000, \"g\"),\n",
    "    (1, 5, 5, 20, 2500, \"g\");"
   ]
  },
  {
   "cell_type": "markdown",
   "id": "f669e74f",
   "metadata": {},
   "source": [
    "#### Check Ingredient Inventory after Placing Supply Order\n",
    "Now that we have order ingredients, let's check our ingredient inventory again to confirm the trigger that runs on supply order inserts is working as expected."
   ]
  },
  {
   "cell_type": "code",
   "execution_count": 16,
   "id": "5cf1a62a",
   "metadata": {},
   "outputs": [
    {
     "name": "stdout",
     "output_type": "stream",
     "text": [
      " * sqlite:///bakery.db\n",
      "Done.\n"
     ]
    },
    {
     "data": {
      "text/html": [
       "<table>\n",
       "    <thead>\n",
       "        <tr>\n",
       "            <th>order_ID</th>\n",
       "            <th>ingredient_category</th>\n",
       "            <th>required_quantity</th>\n",
       "            <th>quantity_available</th>\n",
       "            <th>quantity_delta</th>\n",
       "        </tr>\n",
       "    </thead>\n",
       "    <tbody>\n",
       "        <tr>\n",
       "            <td>1</td>\n",
       "            <td>Brown Sugar</td>\n",
       "            <td>240.0</td>\n",
       "            <td>2500.0</td>\n",
       "            <td>2260.0</td>\n",
       "        </tr>\n",
       "        <tr>\n",
       "            <td>1</td>\n",
       "            <td>Medium Rye Flour</td>\n",
       "            <td>7500.0</td>\n",
       "            <td>10000.0</td>\n",
       "            <td>2500.0</td>\n",
       "        </tr>\n",
       "        <tr>\n",
       "            <td>1</td>\n",
       "            <td>Salt</td>\n",
       "            <td>170.0</td>\n",
       "            <td>1000.0</td>\n",
       "            <td>830.0</td>\n",
       "        </tr>\n",
       "        <tr>\n",
       "            <td>1</td>\n",
       "            <td>Wheat Flour</td>\n",
       "            <td>4500.0</td>\n",
       "            <td>10000.0</td>\n",
       "            <td>5500.0</td>\n",
       "        </tr>\n",
       "        <tr>\n",
       "            <td>1</td>\n",
       "            <td>Yeast</td>\n",
       "            <td>40.0</td>\n",
       "            <td>2500.0</td>\n",
       "            <td>2460.0</td>\n",
       "        </tr>\n",
       "    </tbody>\n",
       "</table>"
      ],
      "text/plain": [
       "[(1, 'Brown Sugar', 240.0, 2500.0, 2260.0),\n",
       " (1, 'Medium Rye Flour', 7500.0, 10000.0, 2500.0),\n",
       " (1, 'Salt', 170.0, 1000.0, 830.0),\n",
       " (1, 'Wheat Flour', 4500.0, 10000.0, 5500.0),\n",
       " (1, 'Yeast', 40.0, 2500.0, 2460.0)]"
      ]
     },
     "execution_count": 16,
     "metadata": {},
     "output_type": "execute_result"
    }
   ],
   "source": [
    "%%sql\n",
    "-- This query grabs the order created above and compares the required ingredients to what is on hand\n",
    "WITH required_ingredients AS (\n",
    "    SELECT o.order_ID,\n",
    "        b.ingredient_category,\n",
    "        SUM(o.quantity*b.quantity) AS required_quantity,\n",
    "        b.unit\n",
    "    FROM product_order o, bill_of_materials b\n",
    "    WHERE o.order_ID = (SELECT MAX(order_id) FROM product_order)\n",
    "        AND o.product_ID = b.product_ID\n",
    "    GROUP BY o.order_ID, b.ingredient_category, b.unit\n",
    ")\n",
    "\n",
    "\n",
    "SELECT r.order_ID,\n",
    "    r.ingredient_category,\n",
    "    r.required_quantity,\n",
    "    COALESCE(i.quantity, 0) AS quantity_available,\n",
    "    COALESCE(i.quantity, 0) - r.required_quantity AS quantity_delta\n",
    "FROM required_ingredients r \n",
    "    LEFT JOIN ingredient_inventory i ON r.ingredient_category = i.ingredient_category\n",
    ";"
   ]
  },
  {
   "cell_type": "markdown",
   "id": "74de25e6",
   "metadata": {},
   "source": [
    "#### Remove a Supplier\n",
    "There may be a time when a supplier is removed for pricing, performance, or new contract. When a supplier is dropped, a trigger will remove all of their respective products from the ingredients_metadata table."
   ]
  },
  {
   "cell_type": "code",
   "execution_count": 17,
   "id": "a1429718",
   "metadata": {},
   "outputs": [
    {
     "name": "stdout",
     "output_type": "stream",
     "text": [
      " * sqlite:///bakery.db\n",
      "Done.\n"
     ]
    },
    {
     "data": {
      "text/html": [
       "<table>\n",
       "    <thead>\n",
       "        <tr>\n",
       "            <th>supplier_ID</th>\n",
       "            <th>name</th>\n",
       "            <th>address</th>\n",
       "            <th>city</th>\n",
       "            <th>state</th>\n",
       "            <th>zip_code</th>\n",
       "        </tr>\n",
       "    </thead>\n",
       "    <tbody>\n",
       "        <tr>\n",
       "            <td>1</td>\n",
       "            <td>The Flour Company</td>\n",
       "            <td>123 Main St</td>\n",
       "            <td>Anytown</td>\n",
       "            <td>CO</td>\n",
       "            <td>80000</td>\n",
       "        </tr>\n",
       "        <tr>\n",
       "            <td>2</td>\n",
       "            <td>Wheat House</td>\n",
       "            <td>456 Side St</td>\n",
       "            <td>Yonder</td>\n",
       "            <td>MO</td>\n",
       "            <td>99999</td>\n",
       "        </tr>\n",
       "        <tr>\n",
       "            <td>3</td>\n",
       "            <td>Powdered Plants</td>\n",
       "            <td>777 Warehouse Way</td>\n",
       "            <td>Boston</td>\n",
       "            <td>MA</td>\n",
       "            <td>88888</td>\n",
       "        </tr>\n",
       "        <tr>\n",
       "            <td>4</td>\n",
       "            <td>Everything Else, Inc</td>\n",
       "            <td>1115 1st Ave</td>\n",
       "            <td>Douglas</td>\n",
       "            <td>WY</td>\n",
       "            <td>66666</td>\n",
       "        </tr>\n",
       "        <tr>\n",
       "            <td>5</td>\n",
       "            <td>Other Ingredients Co</td>\n",
       "            <td>2356 Enterprise Dr</td>\n",
       "            <td>Chicken</td>\n",
       "            <td>AK</td>\n",
       "            <td>56789</td>\n",
       "        </tr>\n",
       "    </tbody>\n",
       "</table>"
      ],
      "text/plain": [
       "[(1, 'The Flour Company', '123 Main St', 'Anytown', 'CO', '80000'),\n",
       " (2, 'Wheat House', '456 Side St', 'Yonder', 'MO', '99999'),\n",
       " (3, 'Powdered Plants', '777 Warehouse Way', 'Boston', 'MA', '88888'),\n",
       " (4, 'Everything Else, Inc', '1115 1st Ave', 'Douglas', 'WY', '66666'),\n",
       " (5, 'Other Ingredients Co', '2356 Enterprise Dr', 'Chicken', 'AK', '56789')]"
      ]
     },
     "execution_count": 17,
     "metadata": {},
     "output_type": "execute_result"
    }
   ],
   "source": [
    "%%sql\n",
    "-- First run a query to see current suppliers\n",
    "SELECT * FROM supplier;"
   ]
  },
  {
   "cell_type": "code",
   "execution_count": 18,
   "id": "fc78de7e",
   "metadata": {},
   "outputs": [
    {
     "name": "stdout",
     "output_type": "stream",
     "text": [
      " * sqlite:///bakery.db\n",
      "Done.\n"
     ]
    },
    {
     "data": {
      "text/html": [
       "<table>\n",
       "    <thead>\n",
       "        <tr>\n",
       "            <th>ingredient_ID</th>\n",
       "            <th>supplier_ID</th>\n",
       "            <th>name</th>\n",
       "            <th>category</th>\n",
       "            <th>description</th>\n",
       "        </tr>\n",
       "    </thead>\n",
       "    <tbody>\n",
       "        <tr>\n",
       "            <td>1</td>\n",
       "            <td>1</td>\n",
       "            <td>Whole Wheat Bread Flour</td>\n",
       "            <td>Wheat Flour</td>\n",
       "            <td>100% whole wheat flour</td>\n",
       "        </tr>\n",
       "        <tr>\n",
       "            <td>2</td>\n",
       "            <td>1</td>\n",
       "            <td>Appalachian White Wheat Flour</td>\n",
       "            <td>White Flour</td>\n",
       "            <td>white bread flour</td>\n",
       "        </tr>\n",
       "        <tr>\n",
       "            <td>3</td>\n",
       "            <td>1</td>\n",
       "            <td>Medium Rye</td>\n",
       "            <td>Medium Rye Flour</td>\n",
       "            <td>medium dark rye flour</td>\n",
       "        </tr>\n",
       "        <tr>\n",
       "            <td>4</td>\n",
       "            <td>1</td>\n",
       "            <td>Light Rye</td>\n",
       "            <td>Light Rye Flour</td>\n",
       "            <td>light rye flour</td>\n",
       "        </tr>\n",
       "        <tr>\n",
       "            <td>5</td>\n",
       "            <td>1</td>\n",
       "            <td>Whole Spelt</td>\n",
       "            <td>Spelt Flour</td>\n",
       "            <td>whole grain spelt flour</td>\n",
       "        </tr>\n",
       "    </tbody>\n",
       "</table>"
      ],
      "text/plain": [
       "[(1, 1, 'Whole Wheat Bread Flour', 'Wheat Flour', '100% whole wheat flour'),\n",
       " (2, 1, 'Appalachian White Wheat Flour', 'White Flour', 'white bread flour'),\n",
       " (3, 1, 'Medium Rye', 'Medium Rye Flour', 'medium dark rye flour'),\n",
       " (4, 1, 'Light Rye', 'Light Rye Flour', 'light rye flour'),\n",
       " (5, 1, 'Whole Spelt', 'Spelt Flour', 'whole grain spelt flour')]"
      ]
     },
     "execution_count": 18,
     "metadata": {},
     "output_type": "execute_result"
    }
   ],
   "source": [
    "%%sql\n",
    "-- Query to see ingredients from The Flour Company\n",
    "SELECT *\n",
    "FROM ingredient_metadata\n",
    "WHERE supplier_ID = 1;"
   ]
  },
  {
   "cell_type": "code",
   "execution_count": 19,
   "id": "6d11a42b",
   "metadata": {},
   "outputs": [
    {
     "name": "stdout",
     "output_type": "stream",
     "text": [
      " * sqlite:///bakery.db\n",
      "1 rows affected.\n"
     ]
    },
    {
     "data": {
      "text/plain": [
       "[]"
      ]
     },
     "execution_count": 19,
     "metadata": {},
     "output_type": "execute_result"
    }
   ],
   "source": [
    "%%sql\n",
    "-- Drop The Flour Company as a supplier\n",
    "DELETE FROM supplier WHERE supplier_ID = 1;"
   ]
  },
  {
   "cell_type": "code",
   "execution_count": 20,
   "id": "29e30628",
   "metadata": {},
   "outputs": [
    {
     "name": "stdout",
     "output_type": "stream",
     "text": [
      " * sqlite:///bakery.db\n",
      "Done.\n"
     ]
    },
    {
     "data": {
      "text/html": [
       "<table>\n",
       "    <thead>\n",
       "        <tr>\n",
       "            <th>ingredient_ID</th>\n",
       "            <th>supplier_ID</th>\n",
       "            <th>name</th>\n",
       "            <th>category</th>\n",
       "            <th>description</th>\n",
       "        </tr>\n",
       "    </thead>\n",
       "    <tbody>\n",
       "    </tbody>\n",
       "</table>"
      ],
      "text/plain": [
       "[]"
      ]
     },
     "execution_count": 20,
     "metadata": {},
     "output_type": "execute_result"
    }
   ],
   "source": [
    "%%sql\n",
    "-- Confirm removal of ingredients from The Flour Company\n",
    "SELECT *\n",
    "FROM ingredient_metadata\n",
    "WHERE supplier_ID = 1;"
   ]
  },
  {
   "cell_type": "markdown",
   "id": "151289ff",
   "metadata": {},
   "source": [
    "### The End"
   ]
  },
  {
   "cell_type": "code",
   "execution_count": null,
   "id": "fa697e5c",
   "metadata": {},
   "outputs": [],
   "source": []
  }
 ],
 "metadata": {
  "kernelspec": {
   "display_name": "Python 3 (ipykernel)",
   "language": "python",
   "name": "python3"
  },
  "language_info": {
   "codemirror_mode": {
    "name": "ipython",
    "version": 3
   },
   "file_extension": ".py",
   "mimetype": "text/x-python",
   "name": "python",
   "nbconvert_exporter": "python",
   "pygments_lexer": "ipython3",
   "version": "3.10.9"
  }
 },
 "nbformat": 4,
 "nbformat_minor": 5
}
